{
  "cells": [
    {
      "attachments": {},
      "cell_type": "markdown",
      "metadata": {
        "id": "AHYuEzV4tsXw"
      },
      "source": [
        "# Querying data in NoSQL databases\n",
        "\n",
        "Objectives:\n",
        "\n",
        "*   design a data platform that uses MongoDB as a NoSQL database\n",
        "*   import data into a MongoDB database.\n",
        "*   query data in a MongoDB database.\n",
        "*   export data from MongoDB.\n",
        "\n",
        "\n",
        "\n",
        "\n"
      ]
    },
    {
      "attachments": {},
      "cell_type": "markdown",
      "metadata": {
        "id": "cpTujmh4zK6x"
      },
      "source": [
        "Querying data in NoSQL databases:\n",
        "\n",
        "Task 1 - Import ‘catalog.json’ into mongodb server into a database named ‘catalog’ and a collection named ‘electronics’\n",
        "\n",
        "Task 2 - List out all the databases\n",
        "\n",
        "Task 3 - List out all the collections in the database catalog.\n",
        "\n",
        "Task 4 - Create an index on the field “type”\n",
        "\n",
        "Task 5 - Write a query to find the count of laptops\n",
        "\n",
        "Task 6 - Write a query to find the number of smart phones with screen size of 6 inches.\n",
        "\n",
        "Task 7 - Write a query to find out the average screen size of smart phones.\n",
        "\n",
        "Task 8 - Export the fields _id, “type”, “model”, from the ‘electronics’ collection into a file named electronics.csv\n",
        "\n"
      ]
    },
    {
      "cell_type": "code",
      "execution_count": 5,
      "metadata": {
        "colab": {
          "base_uri": "https://localhost:8080/"
        },
        "id": "6PJdHwLr66kz",
        "outputId": "61a00470-1b91-47f6-d333-07b323e6a2b2"
      },
      "outputs": [
        {
          "name": "stdout",
          "output_type": "stream",
          "text": [
            "Requirement already satisfied: python-dotenv in c:\\users\\fruityty\\appdata\\local\\packages\\pythonsoftwarefoundation.python.3.11_qbz5n2kfra8p0\\localcache\\local-packages\\python311\\site-packages (1.0.0)\n"
          ]
        },
        {
          "name": "stderr",
          "output_type": "stream",
          "text": [
            "\n",
            "[notice] A new release of pip available: 22.3.1 -> 23.1.2\n",
            "[notice] To update, run: C:\\Users\\fruityty\\AppData\\Local\\Microsoft\\WindowsApps\\PythonSoftwareFoundation.Python.3.11_qbz5n2kfra8p0\\python.exe -m pip install --upgrade pip\n"
          ]
        },
        {
          "data": {
            "text/plain": [
              "True"
            ]
          },
          "execution_count": 5,
          "metadata": {},
          "output_type": "execute_result"
        }
      ],
      "source": [
        "# prepare .env for credentials\n",
        "# install python .env\n",
        "!pip install python-dotenv\n",
        "\n",
        "# import module \n",
        "from dotenv import load_dotenv\n",
        "import os\n",
        "\n",
        "\n",
        "load_dotenv()\n",
        "# print(os.getenv(\"mongo_user\"))\n"
      ]
    },
    {
      "attachments": {},
      "cell_type": "markdown",
      "metadata": {
        "id": "M-YrO79GJ-rd"
      },
      "source": [
        "Task 1 - Import ‘catalog.json’ into mongodb server into a database named \n",
        "‘catalog’ and a collection named ‘electronics’\n",
        "\n",
        "\n",
        "*   Option 1 import by mongoimport with CLI\n",
        "\n",
        "mongodb database tool is needed \n",
        "\n",
        "install mongodb\n",
        "\n",
        "\n",
        "```\n",
        "!apt-get install mongodb\n",
        "```\n",
        "\n",
        "\n",
        "CLI command\n",
        "\n",
        "\n",
        "```\n",
        "!mongoimport --uri mongodb+srv://<USER>:<PASSWORD>@<HOST>/<DATABASE> --collection <COLLECTION> --type <FILETYPE> --file <FILENAME>\n",
        "```\n",
        "USER = MongoDB_User\n",
        "\n",
        "PASSWORD = MongoDB_Password\n",
        "\n",
        "HOST = MongoDB_Host\n",
        "\n",
        "DATABASE = 'catalog'\n",
        "\n",
        "COLLECTION = 'electronics'\n",
        "\n",
        "FILETYPE = 'json'\n",
        "\n",
        "FILENAME = 'catalog.json'\n",
        "\n",
        "\n",
        "\n"
      ]
    },
    {
      "cell_type": "code",
      "execution_count": 4,
      "metadata": {
        "colab": {
          "base_uri": "https://localhost:8080/"
        },
        "id": "SPMi3CCJJ8bX",
        "outputId": "74f42967-3f77-4e8b-c177-60f11290c260"
      },
      "outputs": [
        {
          "name": "stdout",
          "output_type": "stream",
          "text": [
            "Requirement already satisfied: pymongo in c:\\users\\fruityty\\appdata\\local\\packages\\pythonsoftwarefoundation.python.3.11_qbz5n2kfra8p0\\localcache\\local-packages\\python311\\site-packages (4.3.3)\n",
            "Requirement already satisfied: dnspython<3.0.0,>=1.16.0 in c:\\users\\fruityty\\appdata\\local\\packages\\pythonsoftwarefoundation.python.3.11_qbz5n2kfra8p0\\localcache\\local-packages\\python311\\site-packages (from pymongo) (2.3.0)\n"
          ]
        },
        {
          "name": "stderr",
          "output_type": "stream",
          "text": [
            "\n",
            "[notice] A new release of pip available: 22.3.1 -> 23.1.2\n",
            "[notice] To update, run: C:\\Users\\fruityty\\AppData\\Local\\Microsoft\\WindowsApps\\PythonSoftwareFoundation.Python.3.11_qbz5n2kfra8p0\\python.exe -m pip install --upgrade pip\n"
          ]
        },
        {
          "name": "stdout",
          "output_type": "stream",
          "text": [
            "Connection successful!\n"
          ]
        }
      ],
      "source": [
        "# Option 2 import by pymongo\n",
        "# install pymongo\n",
        "!pip install pymongo\n",
        "\n",
        "# import module\n",
        "import pymongo\n",
        "from pymongo.mongo_client import MongoClient\n",
        "\n",
        "uri = \"mongodb+srv://{}:{}@{}\".format(os.getenv(\"mongo_user\"), os.getenv(\"mongo_password\"), os.getenv(\"mongo_host\"))\n",
        "\n",
        "# Create a new client and connect to the server\n",
        "client = MongoClient(uri)\n",
        "\n",
        "# Test the connection \n",
        "try:\n",
        "    client.server_info()\n",
        "    print(\"Connection successful!\")\n",
        "except Exception as e:\n",
        "    print(\"Connection unsuccessful. Error:\", e)\n"
      ]
    },
    {
      "cell_type": "code",
      "execution_count": null,
      "metadata": {
        "colab": {
          "base_uri": "https://localhost:8080/"
        },
        "id": "aqzZJwSoMGr0",
        "outputId": "4356da66-8b3b-484e-ceb1-3b77c10cc27c"
      },
      "outputs": [
        {
          "name": "stdout",
          "output_type": "stream",
          "text": [
            "Inserted 438 records into the collection.\n"
          ]
        }
      ],
      "source": [
        "# import json file to MongoDB\n",
        "# import module\n",
        "import json\n",
        "\n",
        "# select DB\n",
        "db = client.catalog\n",
        "\n",
        "# select collection\n",
        "collection = db.electronics\n",
        "\n",
        "# open the JSON file and load the data\n",
        "with open('catalog.json') as file:\n",
        "    # insert json data line by line\n",
        "    count = 0\n",
        "    for line in file:\n",
        "        data = json.loads(line)\n",
        "        # insert the data into a collection\n",
        "        result = collection.insert_one(data)\n",
        "        # count records\n",
        "        if result.inserted_id:\n",
        "            count += 1\n",
        "\n",
        "print(f\"Inserted {count} records into the collection.\")"
      ]
    },
    {
      "cell_type": "code",
      "execution_count": 6,
      "metadata": {
        "colab": {
          "base_uri": "https://localhost:8080/"
        },
        "id": "V5GxjtazVklh",
        "outputId": "8d1ad632-02cf-4d16-a688-91552c7e87c5"
      },
      "outputs": [
        {
          "name": "stdout",
          "output_type": "stream",
          "text": [
            "['catalog', 'sample_airbnb', 'sample_analytics', 'sample_geospatial', 'sample_guides', 'sample_mflix', 'sample_restaurants', 'sample_supplies', 'sample_training', 'sample_weatherdata', 'training', 'admin', 'local']\n"
          ]
        }
      ],
      "source": [
        "# Task 2 - List out all the databases\n",
        "all_databases = client.list_database_names()\n",
        "print(all_databases)"
      ]
    },
    {
      "cell_type": "code",
      "execution_count": 7,
      "metadata": {
        "colab": {
          "base_uri": "https://localhost:8080/"
        },
        "id": "-3EwOYr4XgL_",
        "outputId": "6b273dc6-83f7-4e7a-804f-006270cd2c24"
      },
      "outputs": [
        {
          "name": "stdout",
          "output_type": "stream",
          "text": [
            "All collections are ['electronics']\n"
          ]
        }
      ],
      "source": [
        "# Task 3 - List out all the collections in the database catalog.\n",
        "# select DB\n",
        "db = client.catalog\n",
        "\n",
        "# list collections\n",
        "all_collections = db.list_collection_names()\n",
        "\n",
        "print(f\"All collections are {all_collections}\")"
      ]
    },
    {
      "cell_type": "code",
      "execution_count": 8,
      "metadata": {
        "colab": {
          "base_uri": "https://localhost:8080/"
        },
        "id": "BZ1pVYD5YAyV",
        "outputId": "b9342aaf-a2c3-43c8-f1d1-0f645b378d01"
      },
      "outputs": [
        {
          "name": "stdout",
          "output_type": "stream",
          "text": [
            "Index type_1 created successfully\n",
            "SON([('v', 2), ('key', SON([('_id', 1)])), ('name', '_id_')])\n",
            "SON([('v', 2), ('key', SON([('type', 1)])), ('name', 'type_1')])\n"
          ]
        }
      ],
      "source": [
        "# Task 4 - Create an index on the field “type”\n",
        "# select DB and collection\n",
        "db = client.catalog\n",
        "collection = db.electronics\n",
        "\n",
        "# create index\n",
        "index_name = collection.create_index([('type', pymongo.ASCENDING)])\n",
        "\n",
        "print(f\"Index {index_name} created successfully\")\n",
        "\n",
        "# Print the index information\n",
        "index_list = collection.list_indexes()\n",
        "for index in index_list:\n",
        "    print(index)"
      ]
    },
    {
      "cell_type": "code",
      "execution_count": 9,
      "metadata": {
        "colab": {
          "base_uri": "https://localhost:8080/"
        },
        "id": "un5KNxGyHf9x",
        "outputId": "b243165b-2295-4556-85ac-3ea12750ae7d"
      },
      "outputs": [
        {
          "name": "stdout",
          "output_type": "stream",
          "text": [
            "Number of laptops in collection is 389\n"
          ]
        }
      ],
      "source": [
        "# Task 5 - Write a query to find the count of laptops\n",
        "# select DB and collection\n",
        "db = client['catalog']\n",
        "collection = db['electronics']\n",
        "\n",
        "# query count of laptops\n",
        "count_laptops = collection.count_documents({'type':'laptop'})\n",
        "print(f\"Number of laptops in collection is {count_laptops}\")"
      ]
    },
    {
      "cell_type": "code",
      "execution_count": 10,
      "metadata": {
        "colab": {
          "base_uri": "https://localhost:8080/"
        },
        "id": "PJ-K0ocJMjWf",
        "outputId": "6a53dbb7-5e69-407f-b287-e4e0b2818aa5"
      },
      "outputs": [
        {
          "name": "stdout",
          "output_type": "stream",
          "text": [
            "Number of smart phones with screen size of 6 inches is 8\n"
          ]
        }
      ],
      "source": [
        "# Task 6 - Write a query to find the number of smart phones with screen size of 6 inches.\n",
        "# select DB and collection\n",
        "db = client['catalog']\n",
        "collection = db['electronics']\n",
        "\n",
        "# query count of laptops\n",
        "count_phone = collection.count_documents({'type':'smart phone', 'screen size':6})\n",
        "print(f\"Number of smart phones with screen size of 6 inches is {count_phone}\")"
      ]
    },
    {
      "cell_type": "code",
      "execution_count": 11,
      "metadata": {
        "colab": {
          "base_uri": "https://localhost:8080/"
        },
        "id": "3Ax-6F7QN6pB",
        "outputId": "2e116dc6-63b7-44dd-abc7-af1bfae24be9"
      },
      "outputs": [
        {
          "name": "stdout",
          "output_type": "stream",
          "text": [
            "The average screen size of smart phones is 6.0\n"
          ]
        }
      ],
      "source": [
        "# Task 7 - Write a query to find out the average screen size of smart phones.\n",
        "# select DB and collection\n",
        "db = client['catalog']\n",
        "collection = db['electronics']\n",
        "\n",
        "# query average screen size of smart phone\n",
        "pipeline = [\n",
        "    {'$match':{'type':'smart phone'}},\n",
        "    {'$group':{'_id':'smart phone', 'avg_screen':{'$avg':'$screen size'}}}\n",
        "]\n",
        "\n",
        "avg_screen = collection.aggregate(pipeline).next()['avg_screen']\n",
        "print(f\"The average screen size of smart phones is {avg_screen}\")\n"
      ]
    },
    {
      "attachments": {},
      "cell_type": "markdown",
      "metadata": {
        "id": "mMCx4RNpWNaC"
      },
      "source": [
        "Task 8 - Export the fields _id, “type”, “model”, from the ‘electronics’ collection into a file named electronics.csv\n",
        "\n",
        "*   Option 1 export by mongoexport with CLI\n",
        "\n",
        "\n",
        "CLI command\n",
        "\n",
        "\n",
        "```\n",
        "!mongoexport --uri mongodb+srv://<USER>:<PASSWORD>@<HOST>/<DATABASE> --collection <COLLECTION> --type <FILETYPE> --out <FILENAME> --fields <FIELDS>\n",
        "```\n",
        "USER = MongoDB_User\n",
        "\n",
        "PASSWORD = MongoDB_Password\n",
        "\n",
        "HOST = MongoDB_Host\n",
        "\n",
        "DATABASE = 'catalog'\n",
        "\n",
        "COLLECTION = 'electronics'\n",
        "\n",
        "FILETYPE = 'csv'\n",
        "\n",
        "FILENAME = 'electronics.csv'\n",
        "\n",
        "FIELDS = '_id', 'type', 'model'\n"
      ]
    },
    {
      "cell_type": "code",
      "execution_count": 12,
      "metadata": {
        "colab": {
          "base_uri": "https://localhost:8080/"
        },
        "id": "oL2weCaIN-J2",
        "outputId": "3bced269-73df-4ce9-bfed-96482196907a"
      },
      "outputs": [
        {
          "name": "stdout",
          "output_type": "stream",
          "text": [
            "Requirement already satisfied: pandas in c:\\users\\fruityty\\appdata\\local\\packages\\pythonsoftwarefoundation.python.3.11_qbz5n2kfra8p0\\localcache\\local-packages\\python311\\site-packages (1.5.3)\n",
            "Requirement already satisfied: python-dateutil>=2.8.1 in c:\\users\\fruityty\\appdata\\local\\packages\\pythonsoftwarefoundation.python.3.11_qbz5n2kfra8p0\\localcache\\local-packages\\python311\\site-packages (from pandas) (2.8.2)\n",
            "Requirement already satisfied: pytz>=2020.1 in c:\\users\\fruityty\\appdata\\local\\packages\\pythonsoftwarefoundation.python.3.11_qbz5n2kfra8p0\\localcache\\local-packages\\python311\\site-packages (from pandas) (2023.3)\n",
            "Requirement already satisfied: numpy>=1.21.0 in c:\\users\\fruityty\\appdata\\local\\packages\\pythonsoftwarefoundation.python.3.11_qbz5n2kfra8p0\\localcache\\local-packages\\python311\\site-packages (from pandas) (1.24.2)\n",
            "Requirement already satisfied: six>=1.5 in c:\\users\\fruityty\\appdata\\local\\packages\\pythonsoftwarefoundation.python.3.11_qbz5n2kfra8p0\\localcache\\local-packages\\python311\\site-packages (from python-dateutil>=2.8.1->pandas) (1.16.0)\n"
          ]
        },
        {
          "name": "stderr",
          "output_type": "stream",
          "text": [
            "\n",
            "[notice] A new release of pip available: 22.3.1 -> 23.1.2\n",
            "[notice] To update, run: C:\\Users\\fruityty\\AppData\\Local\\Microsoft\\WindowsApps\\PythonSoftwareFoundation.Python.3.11_qbz5n2kfra8p0\\python.exe -m pip install --upgrade pip\n"
          ]
        },
        {
          "name": "stdout",
          "output_type": "stream",
          "text": [
            "     Unnamed: 0                       _id         type    model\n",
            "0             0  645e0bb45d6683ac8d61bf50  smart phone  platina\n",
            "1             1  645e0bb45d6683ac8d61bf51  smart phone     bn20\n",
            "2             2  645e0bb45d6683ac8d61bf52  smart phone       cz\n",
            "3             3  645e0bb45d6683ac8d61bf53  smart phone     xm23\n",
            "4             4  645e0bb55d6683ac8d61bf54  smart phone       c3\n",
            "..          ...                       ...          ...      ...\n",
            "433         433  645e0c135d6683ac8d61c101   television      dj1\n",
            "434         434  645e0c135d6683ac8d61c102   television      dj1\n",
            "435         435  645e0c145d6683ac8d61c103   television      dj1\n",
            "436         436  645e0c145d6683ac8d61c104   television      ss2\n",
            "437         437  645e0c145d6683ac8d61c105   television      dj1\n",
            "\n",
            "[438 rows x 4 columns]\n"
          ]
        }
      ],
      "source": [
        "# Task 8 - Export the fields _id, “type”, “model”, from the ‘electronics’ collection into a file named electronics.csv\n",
        "# option 2 export by pymongo\n",
        "# install pandas\n",
        "!pip install pandas\n",
        "\n",
        "# import module\n",
        "import pandas as pd\n",
        "\n",
        "# select DB and collection\n",
        "db = client['catalog']\n",
        "collection = db['electronics']\n",
        "\n",
        "# Define the fields to export\n",
        "fields = {\"_id\": 1, \"type\": 1, \"model\": 1}\n",
        "\n",
        "# Retrieve the data from MongoDB and create a DataFrame\n",
        "query = collection.find({}, projection=fields)\n",
        "\n",
        "# convert find into pandas DataFrame\n",
        "df = pd.DataFrame(list(query))\n",
        "df.to_csv('electronics.csv')\n",
        "\n",
        "# read csv to check\n",
        "dff = pd.read_csv('electronics.csv')\n",
        "print(dff)"
      ]
    },
    {
      "cell_type": "code",
      "execution_count": 40,
      "metadata": {
        "colab": {
          "base_uri": "https://localhost:8080/"
        },
        "id": "w4tYRqRuN_Gv",
        "outputId": "96d7bfe9-8c2e-45e7-d242-e1ac74e784f2"
      },
      "outputs": [
        {
          "name": "stdout",
          "output_type": "stream",
          "text": [
            "Closing the connection.\n"
          ]
        }
      ],
      "source": [
        "# close the server connecton\n",
        "print(\"Closing the connection.\")\n",
        "client.close()"
      ]
    }
  ],
  "metadata": {
    "colab": {
      "provenance": []
    },
    "kernelspec": {
      "display_name": "Python 3",
      "name": "python3"
    },
    "language_info": {
      "codemirror_mode": {
        "name": "ipython",
        "version": 3
      },
      "file_extension": ".py",
      "mimetype": "text/x-python",
      "name": "python",
      "nbconvert_exporter": "python",
      "pygments_lexer": "ipython3",
      "version": "3.11.3"
    }
  },
  "nbformat": 4,
  "nbformat_minor": 0
}
